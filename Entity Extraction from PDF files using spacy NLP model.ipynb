{
 "cells": [
  {
   "cell_type": "markdown",
   "id": "317a1f35",
   "metadata": {},
   "source": [
    "The extraction of information such as persons name, organisation, adresses, events, year, keywords are necessary for anonimty check of the text, to classify or cluster text etc."
   ]
  },
  {
   "cell_type": "code",
   "execution_count": null,
   "id": "284284ca",
   "metadata": {},
   "outputs": [],
   "source": [
    "#importing necessary modules\n",
    "import spacy\n",
    "import os\n",
    "import glob\n",
    "import pandas as pd"
   ]
  },
  {
   "cell_type": "code",
   "execution_count": null,
   "id": "addbbdee",
   "metadata": {},
   "outputs": [],
   "source": [
    "#assigning the NLP model\n",
    "#https://spacy.io/usage/models\n",
    "#you need to download the spacy model before starting this step. \n",
    "#More info on the website of spacy to download spacy model. \n",
    "#You can also load your own custom made model if you want\n",
    "\n",
    "nlp_model=spacy.load(\"en_core_web_sm\")"
   ]
  },
  {
   "cell_type": "code",
   "execution_count": null,
   "id": "8190ede7",
   "metadata": {},
   "outputs": [],
   "source": [
    "#creation of a dataframe to include the columns \n",
    "df_PA4= pd.DataFrame(columns = ['Text No.','Entities', 'Labels'])\n",
    "#input files path where your pdf files are\n",
    "files_path= '/User/Documents/pdf_files_folder'\n",
    "#reading the path\n",
    "read_files=glob.glob(os.path.join(files_path,\"*.pdf\")) \n",
    "#looping over the pdf files\n",
    "for files in read_files:\n",
    "    #if the filename is clear and distinct\n",
    "    from pathlib import Path\n",
    "    #Extracting the basename of the file\n",
    "    base = os.path.basename(files)\n",
    "    #Extract the filename from the basename of the file\n",
    "    filename=Path(base).stem\n",
    "    #if the filename is not the official name  of the application\n",
    "    #filename=\"DMP_\"+str(i)\n",
    "    text=''\n",
    "    #using pdfplumber for processing the pdf files\n",
    "    with pdfplumber.open(files) as pdf:\n",
    "        for pdf_page in pdf.pages:\n",
    "            single_page_text=pdf_page.extract_text()\n",
    "            text=text+ '\\n' + single_page_text\n",
    "    tx=\"  \".join(text.split('\\n'))\n",
    "    #Load SpaCy Model\n",
    "    docs=nlp_model(tx)\n",
    "    #initialize entities and labels variables\n",
    "    entities = []\n",
    "    labels = []\n",
    "    for ent in docs.ents:\n",
    "        entities.append(ent)\n",
    "        labels.append(ent.label_)\n",
    "    #collecting the entities and the corresponding labels of the file in the loop in a dataframe\n",
    "    df = pd.DataFrame({'Text No.':filename,'Entities':entities,'Labels':labels})\n",
    "    #assigning all the datatypes within df as string\n",
    "    df = df.astype('str')\n",
    "    #dropping the duplicates\n",
    "    df.drop_duplicates(subset=['Text No.','Entities','Labels'], keep=\"first\", inplace=True)\n",
    "    #appending data of the file in the loop \n",
    "    df_PA4 = df_PA4.append(df, ignore_index=True)\n",
    "df_PA4.head()"
   ]
  },
  {
   "cell_type": "code",
   "execution_count": null,
   "id": "9eca2780",
   "metadata": {},
   "outputs": [],
   "source": [
    "#make a table format so that all the entities are in columns and text no are in rows\n",
    "table = df_PA4.pivot_table(index=['Text No.'],\n",
    "                             columns=['Labels'],\n",
    "                             values=['Entities'],\n",
    "                             aggfunc=lambda x: ', '.join(str(v) for v in x))\n",
    "table.tail(2)"
   ]
  },
  {
   "cell_type": "code",
   "execution_count": null,
   "id": "517d6e64",
   "metadata": {},
   "outputs": [],
   "source": [
    "#saving the table as an excel file\n",
    "table.to_excel(input('Name of the file followed by .xlsx '))"
   ]
  }
 ],
 "metadata": {
  "kernelspec": {
   "display_name": "Python 3",
   "language": "python",
   "name": "python3"
  },
  "language_info": {
   "codemirror_mode": {
    "name": "ipython",
    "version": 3
   },
   "file_extension": ".py",
   "mimetype": "text/x-python",
   "name": "python",
   "nbconvert_exporter": "python",
   "pygments_lexer": "ipython3",
   "version": "3.7.6"
  }
 },
 "nbformat": 4,
 "nbformat_minor": 5
}
